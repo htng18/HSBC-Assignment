{
 "cells": [
  {
   "cell_type": "markdown",
   "metadata": {},
   "source": [
    "# Kaggle competition - House Prices: Keras Deep learning Model"
   ]
  },
  {
   "cell_type": "code",
   "execution_count": 1,
   "metadata": {
    "collapsed": true
   },
   "outputs": [],
   "source": [
    "import pandas as pd\n",
    "import numpy as np\n",
    "import matplotlib.pyplot as plt\n",
    "% matplotlib inline"
   ]
  },
  {
   "cell_type": "code",
   "execution_count": 2,
   "metadata": {
    "collapsed": true
   },
   "outputs": [],
   "source": [
    "train = pd.read_csv('train.csv',index_col='Id')\n",
    "test = pd.read_csv('test.csv',index_col='Id')"
   ]
  },
  {
   "cell_type": "code",
   "execution_count": 3,
   "metadata": {},
   "outputs": [
    {
     "data": {
      "text/html": [
       "<div>\n",
       "<style>\n",
       "    .dataframe thead tr:only-child th {\n",
       "        text-align: right;\n",
       "    }\n",
       "\n",
       "    .dataframe thead th {\n",
       "        text-align: left;\n",
       "    }\n",
       "\n",
       "    .dataframe tbody tr th {\n",
       "        vertical-align: top;\n",
       "    }\n",
       "</style>\n",
       "<table border=\"1\" class=\"dataframe\">\n",
       "  <thead>\n",
       "    <tr style=\"text-align: right;\">\n",
       "      <th></th>\n",
       "      <th>MSSubClass</th>\n",
       "      <th>MSZoning</th>\n",
       "      <th>LotFrontage</th>\n",
       "      <th>LotArea</th>\n",
       "      <th>Street</th>\n",
       "      <th>Alley</th>\n",
       "      <th>LotShape</th>\n",
       "      <th>LandContour</th>\n",
       "      <th>Utilities</th>\n",
       "      <th>LotConfig</th>\n",
       "      <th>...</th>\n",
       "      <th>PoolArea</th>\n",
       "      <th>PoolQC</th>\n",
       "      <th>Fence</th>\n",
       "      <th>MiscFeature</th>\n",
       "      <th>MiscVal</th>\n",
       "      <th>MoSold</th>\n",
       "      <th>YrSold</th>\n",
       "      <th>SaleType</th>\n",
       "      <th>SaleCondition</th>\n",
       "      <th>SalePrice</th>\n",
       "    </tr>\n",
       "    <tr>\n",
       "      <th>Id</th>\n",
       "      <th></th>\n",
       "      <th></th>\n",
       "      <th></th>\n",
       "      <th></th>\n",
       "      <th></th>\n",
       "      <th></th>\n",
       "      <th></th>\n",
       "      <th></th>\n",
       "      <th></th>\n",
       "      <th></th>\n",
       "      <th></th>\n",
       "      <th></th>\n",
       "      <th></th>\n",
       "      <th></th>\n",
       "      <th></th>\n",
       "      <th></th>\n",
       "      <th></th>\n",
       "      <th></th>\n",
       "      <th></th>\n",
       "      <th></th>\n",
       "      <th></th>\n",
       "    </tr>\n",
       "  </thead>\n",
       "  <tbody>\n",
       "    <tr>\n",
       "      <th>1</th>\n",
       "      <td>60</td>\n",
       "      <td>RL</td>\n",
       "      <td>65.0</td>\n",
       "      <td>8450</td>\n",
       "      <td>Pave</td>\n",
       "      <td>NaN</td>\n",
       "      <td>Reg</td>\n",
       "      <td>Lvl</td>\n",
       "      <td>AllPub</td>\n",
       "      <td>Inside</td>\n",
       "      <td>...</td>\n",
       "      <td>0</td>\n",
       "      <td>NaN</td>\n",
       "      <td>NaN</td>\n",
       "      <td>NaN</td>\n",
       "      <td>0</td>\n",
       "      <td>2</td>\n",
       "      <td>2008</td>\n",
       "      <td>WD</td>\n",
       "      <td>Normal</td>\n",
       "      <td>208500</td>\n",
       "    </tr>\n",
       "    <tr>\n",
       "      <th>2</th>\n",
       "      <td>20</td>\n",
       "      <td>RL</td>\n",
       "      <td>80.0</td>\n",
       "      <td>9600</td>\n",
       "      <td>Pave</td>\n",
       "      <td>NaN</td>\n",
       "      <td>Reg</td>\n",
       "      <td>Lvl</td>\n",
       "      <td>AllPub</td>\n",
       "      <td>FR2</td>\n",
       "      <td>...</td>\n",
       "      <td>0</td>\n",
       "      <td>NaN</td>\n",
       "      <td>NaN</td>\n",
       "      <td>NaN</td>\n",
       "      <td>0</td>\n",
       "      <td>5</td>\n",
       "      <td>2007</td>\n",
       "      <td>WD</td>\n",
       "      <td>Normal</td>\n",
       "      <td>181500</td>\n",
       "    </tr>\n",
       "    <tr>\n",
       "      <th>3</th>\n",
       "      <td>60</td>\n",
       "      <td>RL</td>\n",
       "      <td>68.0</td>\n",
       "      <td>11250</td>\n",
       "      <td>Pave</td>\n",
       "      <td>NaN</td>\n",
       "      <td>IR1</td>\n",
       "      <td>Lvl</td>\n",
       "      <td>AllPub</td>\n",
       "      <td>Inside</td>\n",
       "      <td>...</td>\n",
       "      <td>0</td>\n",
       "      <td>NaN</td>\n",
       "      <td>NaN</td>\n",
       "      <td>NaN</td>\n",
       "      <td>0</td>\n",
       "      <td>9</td>\n",
       "      <td>2008</td>\n",
       "      <td>WD</td>\n",
       "      <td>Normal</td>\n",
       "      <td>223500</td>\n",
       "    </tr>\n",
       "    <tr>\n",
       "      <th>4</th>\n",
       "      <td>70</td>\n",
       "      <td>RL</td>\n",
       "      <td>60.0</td>\n",
       "      <td>9550</td>\n",
       "      <td>Pave</td>\n",
       "      <td>NaN</td>\n",
       "      <td>IR1</td>\n",
       "      <td>Lvl</td>\n",
       "      <td>AllPub</td>\n",
       "      <td>Corner</td>\n",
       "      <td>...</td>\n",
       "      <td>0</td>\n",
       "      <td>NaN</td>\n",
       "      <td>NaN</td>\n",
       "      <td>NaN</td>\n",
       "      <td>0</td>\n",
       "      <td>2</td>\n",
       "      <td>2006</td>\n",
       "      <td>WD</td>\n",
       "      <td>Abnorml</td>\n",
       "      <td>140000</td>\n",
       "    </tr>\n",
       "    <tr>\n",
       "      <th>5</th>\n",
       "      <td>60</td>\n",
       "      <td>RL</td>\n",
       "      <td>84.0</td>\n",
       "      <td>14260</td>\n",
       "      <td>Pave</td>\n",
       "      <td>NaN</td>\n",
       "      <td>IR1</td>\n",
       "      <td>Lvl</td>\n",
       "      <td>AllPub</td>\n",
       "      <td>FR2</td>\n",
       "      <td>...</td>\n",
       "      <td>0</td>\n",
       "      <td>NaN</td>\n",
       "      <td>NaN</td>\n",
       "      <td>NaN</td>\n",
       "      <td>0</td>\n",
       "      <td>12</td>\n",
       "      <td>2008</td>\n",
       "      <td>WD</td>\n",
       "      <td>Normal</td>\n",
       "      <td>250000</td>\n",
       "    </tr>\n",
       "  </tbody>\n",
       "</table>\n",
       "<p>5 rows × 80 columns</p>\n",
       "</div>"
      ],
      "text/plain": [
       "    MSSubClass MSZoning  LotFrontage  LotArea Street Alley LotShape  \\\n",
       "Id                                                                    \n",
       "1           60       RL         65.0     8450   Pave   NaN      Reg   \n",
       "2           20       RL         80.0     9600   Pave   NaN      Reg   \n",
       "3           60       RL         68.0    11250   Pave   NaN      IR1   \n",
       "4           70       RL         60.0     9550   Pave   NaN      IR1   \n",
       "5           60       RL         84.0    14260   Pave   NaN      IR1   \n",
       "\n",
       "   LandContour Utilities LotConfig    ...     PoolArea PoolQC Fence  \\\n",
       "Id                                    ...                             \n",
       "1          Lvl    AllPub    Inside    ...            0    NaN   NaN   \n",
       "2          Lvl    AllPub       FR2    ...            0    NaN   NaN   \n",
       "3          Lvl    AllPub    Inside    ...            0    NaN   NaN   \n",
       "4          Lvl    AllPub    Corner    ...            0    NaN   NaN   \n",
       "5          Lvl    AllPub       FR2    ...            0    NaN   NaN   \n",
       "\n",
       "   MiscFeature MiscVal MoSold  YrSold  SaleType  SaleCondition  SalePrice  \n",
       "Id                                                                         \n",
       "1          NaN       0      2    2008        WD         Normal     208500  \n",
       "2          NaN       0      5    2007        WD         Normal     181500  \n",
       "3          NaN       0      9    2008        WD         Normal     223500  \n",
       "4          NaN       0      2    2006        WD        Abnorml     140000  \n",
       "5          NaN       0     12    2008        WD         Normal     250000  \n",
       "\n",
       "[5 rows x 80 columns]"
      ]
     },
     "execution_count": 3,
     "metadata": {},
     "output_type": "execute_result"
    }
   ],
   "source": [
    "train.head()"
   ]
  },
  {
   "cell_type": "code",
   "execution_count": 4,
   "metadata": {},
   "outputs": [
    {
     "data": {
      "text/html": [
       "<div>\n",
       "<style>\n",
       "    .dataframe thead tr:only-child th {\n",
       "        text-align: right;\n",
       "    }\n",
       "\n",
       "    .dataframe thead th {\n",
       "        text-align: left;\n",
       "    }\n",
       "\n",
       "    .dataframe tbody tr th {\n",
       "        vertical-align: top;\n",
       "    }\n",
       "</style>\n",
       "<table border=\"1\" class=\"dataframe\">\n",
       "  <thead>\n",
       "    <tr style=\"text-align: right;\">\n",
       "      <th></th>\n",
       "      <th>MSSubClass</th>\n",
       "      <th>MSZoning</th>\n",
       "      <th>LotFrontage</th>\n",
       "      <th>LotArea</th>\n",
       "      <th>Street</th>\n",
       "      <th>Alley</th>\n",
       "      <th>LotShape</th>\n",
       "      <th>LandContour</th>\n",
       "      <th>Utilities</th>\n",
       "      <th>LotConfig</th>\n",
       "      <th>...</th>\n",
       "      <th>ScreenPorch</th>\n",
       "      <th>PoolArea</th>\n",
       "      <th>PoolQC</th>\n",
       "      <th>Fence</th>\n",
       "      <th>MiscFeature</th>\n",
       "      <th>MiscVal</th>\n",
       "      <th>MoSold</th>\n",
       "      <th>YrSold</th>\n",
       "      <th>SaleType</th>\n",
       "      <th>SaleCondition</th>\n",
       "    </tr>\n",
       "    <tr>\n",
       "      <th>Id</th>\n",
       "      <th></th>\n",
       "      <th></th>\n",
       "      <th></th>\n",
       "      <th></th>\n",
       "      <th></th>\n",
       "      <th></th>\n",
       "      <th></th>\n",
       "      <th></th>\n",
       "      <th></th>\n",
       "      <th></th>\n",
       "      <th></th>\n",
       "      <th></th>\n",
       "      <th></th>\n",
       "      <th></th>\n",
       "      <th></th>\n",
       "      <th></th>\n",
       "      <th></th>\n",
       "      <th></th>\n",
       "      <th></th>\n",
       "      <th></th>\n",
       "      <th></th>\n",
       "    </tr>\n",
       "  </thead>\n",
       "  <tbody>\n",
       "    <tr>\n",
       "      <th>1461</th>\n",
       "      <td>20</td>\n",
       "      <td>RH</td>\n",
       "      <td>80.0</td>\n",
       "      <td>11622</td>\n",
       "      <td>Pave</td>\n",
       "      <td>NaN</td>\n",
       "      <td>Reg</td>\n",
       "      <td>Lvl</td>\n",
       "      <td>AllPub</td>\n",
       "      <td>Inside</td>\n",
       "      <td>...</td>\n",
       "      <td>120</td>\n",
       "      <td>0</td>\n",
       "      <td>NaN</td>\n",
       "      <td>MnPrv</td>\n",
       "      <td>NaN</td>\n",
       "      <td>0</td>\n",
       "      <td>6</td>\n",
       "      <td>2010</td>\n",
       "      <td>WD</td>\n",
       "      <td>Normal</td>\n",
       "    </tr>\n",
       "    <tr>\n",
       "      <th>1462</th>\n",
       "      <td>20</td>\n",
       "      <td>RL</td>\n",
       "      <td>81.0</td>\n",
       "      <td>14267</td>\n",
       "      <td>Pave</td>\n",
       "      <td>NaN</td>\n",
       "      <td>IR1</td>\n",
       "      <td>Lvl</td>\n",
       "      <td>AllPub</td>\n",
       "      <td>Corner</td>\n",
       "      <td>...</td>\n",
       "      <td>0</td>\n",
       "      <td>0</td>\n",
       "      <td>NaN</td>\n",
       "      <td>NaN</td>\n",
       "      <td>Gar2</td>\n",
       "      <td>12500</td>\n",
       "      <td>6</td>\n",
       "      <td>2010</td>\n",
       "      <td>WD</td>\n",
       "      <td>Normal</td>\n",
       "    </tr>\n",
       "    <tr>\n",
       "      <th>1463</th>\n",
       "      <td>60</td>\n",
       "      <td>RL</td>\n",
       "      <td>74.0</td>\n",
       "      <td>13830</td>\n",
       "      <td>Pave</td>\n",
       "      <td>NaN</td>\n",
       "      <td>IR1</td>\n",
       "      <td>Lvl</td>\n",
       "      <td>AllPub</td>\n",
       "      <td>Inside</td>\n",
       "      <td>...</td>\n",
       "      <td>0</td>\n",
       "      <td>0</td>\n",
       "      <td>NaN</td>\n",
       "      <td>MnPrv</td>\n",
       "      <td>NaN</td>\n",
       "      <td>0</td>\n",
       "      <td>3</td>\n",
       "      <td>2010</td>\n",
       "      <td>WD</td>\n",
       "      <td>Normal</td>\n",
       "    </tr>\n",
       "    <tr>\n",
       "      <th>1464</th>\n",
       "      <td>60</td>\n",
       "      <td>RL</td>\n",
       "      <td>78.0</td>\n",
       "      <td>9978</td>\n",
       "      <td>Pave</td>\n",
       "      <td>NaN</td>\n",
       "      <td>IR1</td>\n",
       "      <td>Lvl</td>\n",
       "      <td>AllPub</td>\n",
       "      <td>Inside</td>\n",
       "      <td>...</td>\n",
       "      <td>0</td>\n",
       "      <td>0</td>\n",
       "      <td>NaN</td>\n",
       "      <td>NaN</td>\n",
       "      <td>NaN</td>\n",
       "      <td>0</td>\n",
       "      <td>6</td>\n",
       "      <td>2010</td>\n",
       "      <td>WD</td>\n",
       "      <td>Normal</td>\n",
       "    </tr>\n",
       "    <tr>\n",
       "      <th>1465</th>\n",
       "      <td>120</td>\n",
       "      <td>RL</td>\n",
       "      <td>43.0</td>\n",
       "      <td>5005</td>\n",
       "      <td>Pave</td>\n",
       "      <td>NaN</td>\n",
       "      <td>IR1</td>\n",
       "      <td>HLS</td>\n",
       "      <td>AllPub</td>\n",
       "      <td>Inside</td>\n",
       "      <td>...</td>\n",
       "      <td>144</td>\n",
       "      <td>0</td>\n",
       "      <td>NaN</td>\n",
       "      <td>NaN</td>\n",
       "      <td>NaN</td>\n",
       "      <td>0</td>\n",
       "      <td>1</td>\n",
       "      <td>2010</td>\n",
       "      <td>WD</td>\n",
       "      <td>Normal</td>\n",
       "    </tr>\n",
       "  </tbody>\n",
       "</table>\n",
       "<p>5 rows × 79 columns</p>\n",
       "</div>"
      ],
      "text/plain": [
       "      MSSubClass MSZoning  LotFrontage  LotArea Street Alley LotShape  \\\n",
       "Id                                                                      \n",
       "1461          20       RH         80.0    11622   Pave   NaN      Reg   \n",
       "1462          20       RL         81.0    14267   Pave   NaN      IR1   \n",
       "1463          60       RL         74.0    13830   Pave   NaN      IR1   \n",
       "1464          60       RL         78.0     9978   Pave   NaN      IR1   \n",
       "1465         120       RL         43.0     5005   Pave   NaN      IR1   \n",
       "\n",
       "     LandContour Utilities LotConfig      ...       ScreenPorch PoolArea  \\\n",
       "Id                                        ...                              \n",
       "1461         Lvl    AllPub    Inside      ...               120        0   \n",
       "1462         Lvl    AllPub    Corner      ...                 0        0   \n",
       "1463         Lvl    AllPub    Inside      ...                 0        0   \n",
       "1464         Lvl    AllPub    Inside      ...                 0        0   \n",
       "1465         HLS    AllPub    Inside      ...               144        0   \n",
       "\n",
       "     PoolQC  Fence MiscFeature MiscVal  MoSold  YrSold  SaleType  \\\n",
       "Id                                                                 \n",
       "1461    NaN  MnPrv         NaN       0       6    2010        WD   \n",
       "1462    NaN    NaN        Gar2   12500       6    2010        WD   \n",
       "1463    NaN  MnPrv         NaN       0       3    2010        WD   \n",
       "1464    NaN    NaN         NaN       0       6    2010        WD   \n",
       "1465    NaN    NaN         NaN       0       1    2010        WD   \n",
       "\n",
       "      SaleCondition  \n",
       "Id                   \n",
       "1461         Normal  \n",
       "1462         Normal  \n",
       "1463         Normal  \n",
       "1464         Normal  \n",
       "1465         Normal  \n",
       "\n",
       "[5 rows x 79 columns]"
      ]
     },
     "execution_count": 4,
     "metadata": {},
     "output_type": "execute_result"
    }
   ],
   "source": [
    "test.head()"
   ]
  },
  {
   "cell_type": "code",
   "execution_count": 5,
   "metadata": {},
   "outputs": [
    {
     "name": "stdout",
     "output_type": "stream",
     "text": [
      "<class 'pandas.core.frame.DataFrame'>\n",
      "Int64Index: 1460 entries, 1 to 1460\n",
      "Data columns (total 80 columns):\n",
      "MSSubClass       1460 non-null int64\n",
      "MSZoning         1460 non-null object\n",
      "LotFrontage      1201 non-null float64\n",
      "LotArea          1460 non-null int64\n",
      "Street           1460 non-null object\n",
      "Alley            91 non-null object\n",
      "LotShape         1460 non-null object\n",
      "LandContour      1460 non-null object\n",
      "Utilities        1460 non-null object\n",
      "LotConfig        1460 non-null object\n",
      "LandSlope        1460 non-null object\n",
      "Neighborhood     1460 non-null object\n",
      "Condition1       1460 non-null object\n",
      "Condition2       1460 non-null object\n",
      "BldgType         1460 non-null object\n",
      "HouseStyle       1460 non-null object\n",
      "OverallQual      1460 non-null int64\n",
      "OverallCond      1460 non-null int64\n",
      "YearBuilt        1460 non-null int64\n",
      "YearRemodAdd     1460 non-null int64\n",
      "RoofStyle        1460 non-null object\n",
      "RoofMatl         1460 non-null object\n",
      "Exterior1st      1460 non-null object\n",
      "Exterior2nd      1460 non-null object\n",
      "MasVnrType       1452 non-null object\n",
      "MasVnrArea       1452 non-null float64\n",
      "ExterQual        1460 non-null object\n",
      "ExterCond        1460 non-null object\n",
      "Foundation       1460 non-null object\n",
      "BsmtQual         1423 non-null object\n",
      "BsmtCond         1423 non-null object\n",
      "BsmtExposure     1422 non-null object\n",
      "BsmtFinType1     1423 non-null object\n",
      "BsmtFinSF1       1460 non-null int64\n",
      "BsmtFinType2     1422 non-null object\n",
      "BsmtFinSF2       1460 non-null int64\n",
      "BsmtUnfSF        1460 non-null int64\n",
      "TotalBsmtSF      1460 non-null int64\n",
      "Heating          1460 non-null object\n",
      "HeatingQC        1460 non-null object\n",
      "CentralAir       1460 non-null object\n",
      "Electrical       1459 non-null object\n",
      "1stFlrSF         1460 non-null int64\n",
      "2ndFlrSF         1460 non-null int64\n",
      "LowQualFinSF     1460 non-null int64\n",
      "GrLivArea        1460 non-null int64\n",
      "BsmtFullBath     1460 non-null int64\n",
      "BsmtHalfBath     1460 non-null int64\n",
      "FullBath         1460 non-null int64\n",
      "HalfBath         1460 non-null int64\n",
      "BedroomAbvGr     1460 non-null int64\n",
      "KitchenAbvGr     1460 non-null int64\n",
      "KitchenQual      1460 non-null object\n",
      "TotRmsAbvGrd     1460 non-null int64\n",
      "Functional       1460 non-null object\n",
      "Fireplaces       1460 non-null int64\n",
      "FireplaceQu      770 non-null object\n",
      "GarageType       1379 non-null object\n",
      "GarageYrBlt      1379 non-null float64\n",
      "GarageFinish     1379 non-null object\n",
      "GarageCars       1460 non-null int64\n",
      "GarageArea       1460 non-null int64\n",
      "GarageQual       1379 non-null object\n",
      "GarageCond       1379 non-null object\n",
      "PavedDrive       1460 non-null object\n",
      "WoodDeckSF       1460 non-null int64\n",
      "OpenPorchSF      1460 non-null int64\n",
      "EnclosedPorch    1460 non-null int64\n",
      "3SsnPorch        1460 non-null int64\n",
      "ScreenPorch      1460 non-null int64\n",
      "PoolArea         1460 non-null int64\n",
      "PoolQC           7 non-null object\n",
      "Fence            281 non-null object\n",
      "MiscFeature      54 non-null object\n",
      "MiscVal          1460 non-null int64\n",
      "MoSold           1460 non-null int64\n",
      "YrSold           1460 non-null int64\n",
      "SaleType         1460 non-null object\n",
      "SaleCondition    1460 non-null object\n",
      "SalePrice        1460 non-null int64\n",
      "dtypes: float64(3), int64(34), object(43)\n",
      "memory usage: 923.9+ KB\n"
     ]
    }
   ],
   "source": [
    "train.info()"
   ]
  },
  {
   "cell_type": "code",
   "execution_count": 6,
   "metadata": {},
   "outputs": [
    {
     "data": {
      "text/html": [
       "<div>\n",
       "<style>\n",
       "    .dataframe thead tr:only-child th {\n",
       "        text-align: right;\n",
       "    }\n",
       "\n",
       "    .dataframe thead th {\n",
       "        text-align: left;\n",
       "    }\n",
       "\n",
       "    .dataframe tbody tr th {\n",
       "        vertical-align: top;\n",
       "    }\n",
       "</style>\n",
       "<table border=\"1\" class=\"dataframe\">\n",
       "  <thead>\n",
       "    <tr style=\"text-align: right;\">\n",
       "      <th></th>\n",
       "      <th>MSSubClass</th>\n",
       "      <th>LotFrontage</th>\n",
       "      <th>LotArea</th>\n",
       "      <th>OverallQual</th>\n",
       "      <th>OverallCond</th>\n",
       "      <th>YearBuilt</th>\n",
       "      <th>YearRemodAdd</th>\n",
       "      <th>MasVnrArea</th>\n",
       "      <th>BsmtFinSF1</th>\n",
       "      <th>BsmtFinSF2</th>\n",
       "      <th>...</th>\n",
       "      <th>WoodDeckSF</th>\n",
       "      <th>OpenPorchSF</th>\n",
       "      <th>EnclosedPorch</th>\n",
       "      <th>3SsnPorch</th>\n",
       "      <th>ScreenPorch</th>\n",
       "      <th>PoolArea</th>\n",
       "      <th>MiscVal</th>\n",
       "      <th>MoSold</th>\n",
       "      <th>YrSold</th>\n",
       "      <th>SalePrice</th>\n",
       "    </tr>\n",
       "  </thead>\n",
       "  <tbody>\n",
       "    <tr>\n",
       "      <th>count</th>\n",
       "      <td>1460.000000</td>\n",
       "      <td>1201.000000</td>\n",
       "      <td>1460.000000</td>\n",
       "      <td>1460.000000</td>\n",
       "      <td>1460.000000</td>\n",
       "      <td>1460.000000</td>\n",
       "      <td>1460.000000</td>\n",
       "      <td>1452.000000</td>\n",
       "      <td>1460.000000</td>\n",
       "      <td>1460.000000</td>\n",
       "      <td>...</td>\n",
       "      <td>1460.000000</td>\n",
       "      <td>1460.000000</td>\n",
       "      <td>1460.000000</td>\n",
       "      <td>1460.000000</td>\n",
       "      <td>1460.000000</td>\n",
       "      <td>1460.000000</td>\n",
       "      <td>1460.000000</td>\n",
       "      <td>1460.000000</td>\n",
       "      <td>1460.000000</td>\n",
       "      <td>1460.000000</td>\n",
       "    </tr>\n",
       "    <tr>\n",
       "      <th>mean</th>\n",
       "      <td>56.897260</td>\n",
       "      <td>70.049958</td>\n",
       "      <td>10516.828082</td>\n",
       "      <td>6.099315</td>\n",
       "      <td>5.575342</td>\n",
       "      <td>1971.267808</td>\n",
       "      <td>1984.865753</td>\n",
       "      <td>103.685262</td>\n",
       "      <td>443.639726</td>\n",
       "      <td>46.549315</td>\n",
       "      <td>...</td>\n",
       "      <td>94.244521</td>\n",
       "      <td>46.660274</td>\n",
       "      <td>21.954110</td>\n",
       "      <td>3.409589</td>\n",
       "      <td>15.060959</td>\n",
       "      <td>2.758904</td>\n",
       "      <td>43.489041</td>\n",
       "      <td>6.321918</td>\n",
       "      <td>2007.815753</td>\n",
       "      <td>180921.195890</td>\n",
       "    </tr>\n",
       "    <tr>\n",
       "      <th>std</th>\n",
       "      <td>42.300571</td>\n",
       "      <td>24.284752</td>\n",
       "      <td>9981.264932</td>\n",
       "      <td>1.382997</td>\n",
       "      <td>1.112799</td>\n",
       "      <td>30.202904</td>\n",
       "      <td>20.645407</td>\n",
       "      <td>181.066207</td>\n",
       "      <td>456.098091</td>\n",
       "      <td>161.319273</td>\n",
       "      <td>...</td>\n",
       "      <td>125.338794</td>\n",
       "      <td>66.256028</td>\n",
       "      <td>61.119149</td>\n",
       "      <td>29.317331</td>\n",
       "      <td>55.757415</td>\n",
       "      <td>40.177307</td>\n",
       "      <td>496.123024</td>\n",
       "      <td>2.703626</td>\n",
       "      <td>1.328095</td>\n",
       "      <td>79442.502883</td>\n",
       "    </tr>\n",
       "    <tr>\n",
       "      <th>min</th>\n",
       "      <td>20.000000</td>\n",
       "      <td>21.000000</td>\n",
       "      <td>1300.000000</td>\n",
       "      <td>1.000000</td>\n",
       "      <td>1.000000</td>\n",
       "      <td>1872.000000</td>\n",
       "      <td>1950.000000</td>\n",
       "      <td>0.000000</td>\n",
       "      <td>0.000000</td>\n",
       "      <td>0.000000</td>\n",
       "      <td>...</td>\n",
       "      <td>0.000000</td>\n",
       "      <td>0.000000</td>\n",
       "      <td>0.000000</td>\n",
       "      <td>0.000000</td>\n",
       "      <td>0.000000</td>\n",
       "      <td>0.000000</td>\n",
       "      <td>0.000000</td>\n",
       "      <td>1.000000</td>\n",
       "      <td>2006.000000</td>\n",
       "      <td>34900.000000</td>\n",
       "    </tr>\n",
       "    <tr>\n",
       "      <th>25%</th>\n",
       "      <td>20.000000</td>\n",
       "      <td>59.000000</td>\n",
       "      <td>7553.500000</td>\n",
       "      <td>5.000000</td>\n",
       "      <td>5.000000</td>\n",
       "      <td>1954.000000</td>\n",
       "      <td>1967.000000</td>\n",
       "      <td>0.000000</td>\n",
       "      <td>0.000000</td>\n",
       "      <td>0.000000</td>\n",
       "      <td>...</td>\n",
       "      <td>0.000000</td>\n",
       "      <td>0.000000</td>\n",
       "      <td>0.000000</td>\n",
       "      <td>0.000000</td>\n",
       "      <td>0.000000</td>\n",
       "      <td>0.000000</td>\n",
       "      <td>0.000000</td>\n",
       "      <td>5.000000</td>\n",
       "      <td>2007.000000</td>\n",
       "      <td>129975.000000</td>\n",
       "    </tr>\n",
       "    <tr>\n",
       "      <th>50%</th>\n",
       "      <td>50.000000</td>\n",
       "      <td>69.000000</td>\n",
       "      <td>9478.500000</td>\n",
       "      <td>6.000000</td>\n",
       "      <td>5.000000</td>\n",
       "      <td>1973.000000</td>\n",
       "      <td>1994.000000</td>\n",
       "      <td>0.000000</td>\n",
       "      <td>383.500000</td>\n",
       "      <td>0.000000</td>\n",
       "      <td>...</td>\n",
       "      <td>0.000000</td>\n",
       "      <td>25.000000</td>\n",
       "      <td>0.000000</td>\n",
       "      <td>0.000000</td>\n",
       "      <td>0.000000</td>\n",
       "      <td>0.000000</td>\n",
       "      <td>0.000000</td>\n",
       "      <td>6.000000</td>\n",
       "      <td>2008.000000</td>\n",
       "      <td>163000.000000</td>\n",
       "    </tr>\n",
       "    <tr>\n",
       "      <th>75%</th>\n",
       "      <td>70.000000</td>\n",
       "      <td>80.000000</td>\n",
       "      <td>11601.500000</td>\n",
       "      <td>7.000000</td>\n",
       "      <td>6.000000</td>\n",
       "      <td>2000.000000</td>\n",
       "      <td>2004.000000</td>\n",
       "      <td>166.000000</td>\n",
       "      <td>712.250000</td>\n",
       "      <td>0.000000</td>\n",
       "      <td>...</td>\n",
       "      <td>168.000000</td>\n",
       "      <td>68.000000</td>\n",
       "      <td>0.000000</td>\n",
       "      <td>0.000000</td>\n",
       "      <td>0.000000</td>\n",
       "      <td>0.000000</td>\n",
       "      <td>0.000000</td>\n",
       "      <td>8.000000</td>\n",
       "      <td>2009.000000</td>\n",
       "      <td>214000.000000</td>\n",
       "    </tr>\n",
       "    <tr>\n",
       "      <th>max</th>\n",
       "      <td>190.000000</td>\n",
       "      <td>313.000000</td>\n",
       "      <td>215245.000000</td>\n",
       "      <td>10.000000</td>\n",
       "      <td>9.000000</td>\n",
       "      <td>2010.000000</td>\n",
       "      <td>2010.000000</td>\n",
       "      <td>1600.000000</td>\n",
       "      <td>5644.000000</td>\n",
       "      <td>1474.000000</td>\n",
       "      <td>...</td>\n",
       "      <td>857.000000</td>\n",
       "      <td>547.000000</td>\n",
       "      <td>552.000000</td>\n",
       "      <td>508.000000</td>\n",
       "      <td>480.000000</td>\n",
       "      <td>738.000000</td>\n",
       "      <td>15500.000000</td>\n",
       "      <td>12.000000</td>\n",
       "      <td>2010.000000</td>\n",
       "      <td>755000.000000</td>\n",
       "    </tr>\n",
       "  </tbody>\n",
       "</table>\n",
       "<p>8 rows × 37 columns</p>\n",
       "</div>"
      ],
      "text/plain": [
       "        MSSubClass  LotFrontage        LotArea  OverallQual  OverallCond  \\\n",
       "count  1460.000000  1201.000000    1460.000000  1460.000000  1460.000000   \n",
       "mean     56.897260    70.049958   10516.828082     6.099315     5.575342   \n",
       "std      42.300571    24.284752    9981.264932     1.382997     1.112799   \n",
       "min      20.000000    21.000000    1300.000000     1.000000     1.000000   \n",
       "25%      20.000000    59.000000    7553.500000     5.000000     5.000000   \n",
       "50%      50.000000    69.000000    9478.500000     6.000000     5.000000   \n",
       "75%      70.000000    80.000000   11601.500000     7.000000     6.000000   \n",
       "max     190.000000   313.000000  215245.000000    10.000000     9.000000   \n",
       "\n",
       "         YearBuilt  YearRemodAdd   MasVnrArea   BsmtFinSF1   BsmtFinSF2  \\\n",
       "count  1460.000000   1460.000000  1452.000000  1460.000000  1460.000000   \n",
       "mean   1971.267808   1984.865753   103.685262   443.639726    46.549315   \n",
       "std      30.202904     20.645407   181.066207   456.098091   161.319273   \n",
       "min    1872.000000   1950.000000     0.000000     0.000000     0.000000   \n",
       "25%    1954.000000   1967.000000     0.000000     0.000000     0.000000   \n",
       "50%    1973.000000   1994.000000     0.000000   383.500000     0.000000   \n",
       "75%    2000.000000   2004.000000   166.000000   712.250000     0.000000   \n",
       "max    2010.000000   2010.000000  1600.000000  5644.000000  1474.000000   \n",
       "\n",
       "           ...         WoodDeckSF  OpenPorchSF  EnclosedPorch    3SsnPorch  \\\n",
       "count      ...        1460.000000  1460.000000    1460.000000  1460.000000   \n",
       "mean       ...          94.244521    46.660274      21.954110     3.409589   \n",
       "std        ...         125.338794    66.256028      61.119149    29.317331   \n",
       "min        ...           0.000000     0.000000       0.000000     0.000000   \n",
       "25%        ...           0.000000     0.000000       0.000000     0.000000   \n",
       "50%        ...           0.000000    25.000000       0.000000     0.000000   \n",
       "75%        ...         168.000000    68.000000       0.000000     0.000000   \n",
       "max        ...         857.000000   547.000000     552.000000   508.000000   \n",
       "\n",
       "       ScreenPorch     PoolArea       MiscVal       MoSold       YrSold  \\\n",
       "count  1460.000000  1460.000000   1460.000000  1460.000000  1460.000000   \n",
       "mean     15.060959     2.758904     43.489041     6.321918  2007.815753   \n",
       "std      55.757415    40.177307    496.123024     2.703626     1.328095   \n",
       "min       0.000000     0.000000      0.000000     1.000000  2006.000000   \n",
       "25%       0.000000     0.000000      0.000000     5.000000  2007.000000   \n",
       "50%       0.000000     0.000000      0.000000     6.000000  2008.000000   \n",
       "75%       0.000000     0.000000      0.000000     8.000000  2009.000000   \n",
       "max     480.000000   738.000000  15500.000000    12.000000  2010.000000   \n",
       "\n",
       "           SalePrice  \n",
       "count    1460.000000  \n",
       "mean   180921.195890  \n",
       "std     79442.502883  \n",
       "min     34900.000000  \n",
       "25%    129975.000000  \n",
       "50%    163000.000000  \n",
       "75%    214000.000000  \n",
       "max    755000.000000  \n",
       "\n",
       "[8 rows x 37 columns]"
      ]
     },
     "execution_count": 6,
     "metadata": {},
     "output_type": "execute_result"
    }
   ],
   "source": [
    "train.describe()"
   ]
  },
  {
   "cell_type": "markdown",
   "metadata": {},
   "source": [
    "# Data Preprocessing"
   ]
  },
  {
   "cell_type": "code",
   "execution_count": 7,
   "metadata": {
    "collapsed": true
   },
   "outputs": [],
   "source": [
    "Y_train = np.log1p(train.loc[:, train.columns == 'SalePrice'])\n",
    "train = train.drop(['SalePrice'], axis = 1)"
   ]
  },
  {
   "cell_type": "code",
   "execution_count": 8,
   "metadata": {
    "collapsed": true
   },
   "outputs": [],
   "source": [
    "# Fill Na for specific variables\n",
    "def FillNa(data):\n",
    "    data['Alley'] = data['Alley'].fillna('None') \n",
    "    data['BsmtQual'] = data['BsmtQual'].fillna('None')\n",
    "    data['BsmtCond'] = data['BsmtCond'].fillna('None')\n",
    "    data['BsmtExposure'] = data['BsmtExposure'].fillna('None')\n",
    "    data['BsmtFinType1'] = data['BsmtFinType1'].fillna('None')\n",
    "    data['BsmtFinType2'] = data['BsmtFinType2'].fillna('None')\n",
    "    data['BsmtFinSF1'] = data['BsmtFinSF1'].fillna(0)\n",
    "    data['BsmtFinSF2'] = data['BsmtFinSF2'].fillna(0)\n",
    "    data['BsmtUnfSF'] = data['BsmtUnfSF'].fillna(0)\n",
    "    data['TotalBsmtSF'] = data['TotalBsmtSF'].fillna(0)\n",
    "    data['BsmtFullBath'] = data['BsmtFullBath'].fillna(0)\n",
    "    data['BsmtHalfBath'] = data['BsmtHalfBath'].fillna(0)\n",
    "    data['Fence'] = data['Fence'].fillna('None')\n",
    "    data['FireplaceQu'] = data['FireplaceQu'].fillna('None')\n",
    "    data['Functional'] = data['Functional'].fillna('Typ')\n",
    "    data['GarageType'] = data['GarageType'].fillna('None')\n",
    "    data['GarageYrBlt'] = data['GarageYrBlt'].fillna(int(data['GarageYrBlt'].mean()))\n",
    "    data['GarageFinish'] = data['GarageFinish'].fillna('None')\n",
    "    data['GarageCars'] = data['GarageCars'].fillna(0)\n",
    "    data['GarageArea'] = data['GarageArea'].fillna(0)\n",
    "    data['GarageQual'] = data['GarageQual'].fillna('None')\n",
    "    data['GarageCond'] = data['GarageCond'].fillna('None')\n",
    "    data['KitchenQual'] = data['KitchenQual'].fillna('TA')\n",
    "    data['KitchenAbvGr'] = data['KitchenAbvGr'].fillna(0)\n",
    "    data['MasVnrType'] = data['MasVnrType'].fillna('None')\n",
    "    data['MasVnrArea'] = data['MasVnrArea'].fillna(0)\n",
    "    data['Electrical'] = data['Electrical'].fillna('None')\n",
    "    data['Exterior1st'] = data['Exterior1st'].fillna('None')\n",
    "    data['Exterior2nd'] = data['Exterior2nd'].fillna('None')\n",
    "    data['LotFrontage'] = data['LotFrontage'].fillna(0)\n",
    "    data['PoolQC'] = data['PoolQC'].fillna('None')\n",
    "    data['MiscFeature'] = data['MiscFeature'].fillna('None')\n",
    "    data['MSZoning'] = data['MSZoning'].fillna('None')\n",
    "    data['SaleType'] = data['SaleType'].fillna('Oth')\n",
    "    data['Utilities'] = data['Utilities'].fillna('NoSeWa')\n",
    "    return data"
   ]
  },
  {
   "cell_type": "code",
   "execution_count": 9,
   "metadata": {
    "collapsed": true
   },
   "outputs": [],
   "source": [
    "train = FillNa(train)\n",
    "test = FillNa(test)"
   ]
  },
  {
   "cell_type": "code",
   "execution_count": 10,
   "metadata": {
    "collapsed": true
   },
   "outputs": [],
   "source": [
    "# Rescale the Year Built, Remodel and Sold\n",
    "def rescale_year(data):\n",
    "    data['YearBuilt'] = data['YearBuilt'] - data['YearBuilt'].min() + 1\n",
    "    data['YearRemodAdd'] = data['YearRemodAdd'] - data['YearRemodAdd'].min() + 1\n",
    "    return data"
   ]
  },
  {
   "cell_type": "code",
   "execution_count": 11,
   "metadata": {
    "collapsed": true
   },
   "outputs": [],
   "source": [
    "train = rescale_year(train)\n",
    "test = rescale_year(test)"
   ]
  },
  {
   "cell_type": "code",
   "execution_count": 12,
   "metadata": {
    "collapsed": true
   },
   "outputs": [],
   "source": [
    "# Function for converting numerical variables to categorical varibles\n",
    "def convert_numerical2category(data):\n",
    "    data = data.replace({\"MSSubClass\" : {20 : \"C20\", 30 : \"C30\", 40 : \"C40\", 45 : \"C45\", \n",
    "                                       50 : \"C50\", 60 : \"C60\", 70 : \"C70\", 75 : \"C75\", \n",
    "                                       80 : \"C80\", 85 : \"C85\", 90 : \"C90\", 120 : \"C120\", \n",
    "                                       150 : \"C150\", 160 : \"C160\", 180 : \"C180\", 190 : \"C190\"},\n",
    "                       \"MoSold\" : {1 : \"Jan\", 2 : \"Feb\", 3 : \"Mar\", 4 : \"Apr\", 5 : \"May\", 6 : \"Jun\",\n",
    "                                   7 : \"Jul\", 8 : \"Aug\", 9 : \"Sep\", 10 : \"Oct\", 11 : \"Nov\", 12 : \"Dec\"}\n",
    "                      })\n",
    "    return data"
   ]
  },
  {
   "cell_type": "code",
   "execution_count": 13,
   "metadata": {
    "collapsed": true
   },
   "outputs": [],
   "source": [
    "train = convert_numerical2category(train)\n",
    "test = convert_numerical2category(test)"
   ]
  },
  {
   "cell_type": "code",
   "execution_count": 14,
   "metadata": {
    "collapsed": true
   },
   "outputs": [],
   "source": [
    "# Some categorical features' comments related to house sales price\n",
    "# Since more positive (negative) comments may lead to a higher(lower) price,\n",
    "# it is useful to transform them to numerical score.\n",
    "#\n",
    "# Function for transforming categorical features to numerical variables\n",
    "#\n",
    "def convert_category2numerical(data):\n",
    "    data = data.replace({\"Alley\" : {\"None\" : 0, \"Grvl\" : 1, \"Pave\" : 2},\n",
    "                       \"BsmtCond\" : {\"None\" : 0, \"Po\" : 1, \"Fa\" : 2, \"TA\" : 3, \"Gd\" : 4, \"Ex\" : 5},\n",
    "                       \"BsmtExposure\" : {\"None\" : 0, \"Mn\" : 1, \"Av\": 2, \"Gd\" : 3},\n",
    "                       \"BsmtFinType1\" : {\"None\" : 0, \"Unf\" : 1, \"LwQ\": 2, \"Rec\" : 3, \"BLQ\" : 4, \n",
    "                                         \"ALQ\" : 5, \"GLQ\" : 6},\n",
    "                       \"BsmtFinType2\" : {\"None\" : 0, \"Unf\" : 1, \"LwQ\": 2, \"Rec\" : 3, \"BLQ\" : 4, \n",
    "                                         \"ALQ\" : 5, \"GLQ\" : 6},\n",
    "                       \"BsmtQual\" : {\"None\" : 0, \"Po\" : 1, \"Fa\" : 2, \"TA\": 3, \"Gd\" : 4, \"Ex\" : 5},\n",
    "                       \"ExterCond\" : {\"Po\" : 1, \"Fa\" : 2, \"TA\": 3, \"Gd\": 4, \"Ex\" : 5},\n",
    "                       \"ExterQual\" : {\"Po\" : 1, \"Fa\" : 2, \"TA\": 3, \"Gd\": 4, \"Ex\" : 5},\n",
    "                       \"FireplaceQu\" : {\"None\" : 0, \"Po\" : 1, \"Fa\" : 2, \"TA\" : 3, \"Gd\" : 4, \"Ex\" : 5},\n",
    "                       \"Functional\" : {\"Sal\" : 1, \"Sev\" : 2, \"Maj2\" : 3, \"Maj1\" : 4, \"Mod\": 5, \n",
    "                                       \"Min2\" : 6, \"Min1\" : 7, \"Typ\" : 8},\n",
    "                       \"GarageCond\" : {\"None\" : 0, \"Po\" : 1, \"Fa\" : 2, \"TA\" : 3, \"Gd\" : 4, \"Ex\" : 5},\n",
    "                       \"GarageQual\" : {\"None\" : 0, \"Po\" : 1, \"Fa\" : 2, \"TA\" : 3, \"Gd\" : 4, \"Ex\" : 5},\n",
    "                       \"HeatingQC\" : {\"Po\" : 1, \"Fa\" : 2, \"TA\" : 3, \"Gd\" : 4, \"Ex\" : 5},\n",
    "                       \"KitchenQual\" : {\"Po\" : 1, \"Fa\" : 2, \"TA\" : 3, \"Gd\" : 4, \"Ex\" : 5},\n",
    "                       \"LandSlope\" : {\"Sev\" : 1, \"Mod\" : 2, \"Gtl\" : 3},\n",
    "                       \"LotShape\" : {\"IR3\" : 1, \"IR2\" : 2, \"IR1\" : 3, \"Reg\" : 4},\n",
    "                       \"PavedDrive\" : {\"N\" : 0, \"P\" : 1, \"Y\" : 2},\n",
    "                       \"PoolQC\" : {\"None\" : 0, \"Fa\" : 1, \"TA\" : 2, \"Gd\" : 3, \"Ex\" : 4},\n",
    "                       \"Street\" : {\"Grvl\" : 1, \"Pave\" : 2},\n",
    "                       \"Utilities\" : {\"NoSeWa\" : 1, \"AllPub\" : 2},\n",
    "                       \"Neighborhood\" : {\"MeadowV\" : 0, 'IDOTRR' : 0, \"BrDale\" : 0, \"OldTown\" : 1, \"Edwards\" : 1, \"BrkSide\" : 1, \n",
    "                                       \"Sawyer\" : 1, \"Blueste\" : 1, \"SWISU\" : 2, \"NAmes\" : 2, \"NPkVill\" : 2,  \"Mitchel\" : 2,  \n",
    "                                       \"SawyerW\" : 2, \"Gilbert\" : 2, \"NWAmes\" : 2, \"Blmngtn\" : 2, \"CollgCr\" : 2, \"ClearCr\" : 3,  \n",
    "                                       \"Crawfor\" : 3, \"Veenker\" : 3, \"Somerst\" : 3, \"Timber\" : 3, \"StoneBr\" : 3, \"NoRidge\" : 4,  \n",
    "                                       \"NridgHt\" : 4}})\n",
    "    return data"
   ]
  },
  {
   "cell_type": "code",
   "execution_count": 15,
   "metadata": {
    "collapsed": true
   },
   "outputs": [],
   "source": [
    "train = convert_category2numerical(train)\n",
    "test = convert_category2numerical(test)"
   ]
  },
  {
   "cell_type": "code",
   "execution_count": 17,
   "metadata": {
    "collapsed": true
   },
   "outputs": [],
   "source": [
    "categorical_columns = train.select_dtypes(include = [\"object\"]).columns\n",
    "numerical_columns = train.select_dtypes(exclude = [\"object\"]).columns"
   ]
  },
  {
   "cell_type": "code",
   "execution_count": null,
   "metadata": {
    "collapsed": true
   },
   "outputs": [],
   "source": [
    "# Identify the features with high skewness. \n",
    "# They are more likely to have outliners. \n",
    "# Log tranfrom those features"
   ]
  },
  {
   "cell_type": "code",
   "execution_count": 18,
   "metadata": {
    "collapsed": true
   },
   "outputs": [],
   "source": [
    "from scipy.stats import skew"
   ]
  },
  {
   "cell_type": "code",
   "execution_count": 19,
   "metadata": {
    "collapsed": true
   },
   "outputs": [],
   "source": [
    "# Function for log transform of variables with high skewness\n",
    "def logtransform_skew(data,numerical_columns):\n",
    "    skew_data = data[numerical_columns].apply(lambda x: skew(x))\n",
    "    skew_data = skew_data[abs(skew_data) > 0.5]\n",
    "    skew_features = skew_data.index\n",
    "    data.loc[:,skew_features] = np.log1p(data.loc[:,skew_features])\n",
    "    return data,skew_features"
   ]
  },
  {
   "cell_type": "code",
   "execution_count": 20,
   "metadata": {
    "collapsed": true
   },
   "outputs": [],
   "source": [
    "train, train_skewfeatures = logtransform_skew(train,numerical_columns)\n",
    "test.loc[:,train_skewfeatures] = np.log1p(test.loc[:,train_skewfeatures])"
   ]
  },
  {
   "cell_type": "code",
   "execution_count": 21,
   "metadata": {},
   "outputs": [
    {
     "name": "stdout",
     "output_type": "stream",
     "text": [
      "LotFrontage 0.17930313368372186\n",
      "LotArea 0.3999231830717296\n",
      "Street 0.05736909781297994\n",
      "Alley -0.1054591890346652\n",
      "LotShape -0.27324463162685825\n",
      "Utilities 0.012632103795307348\n",
      "LandSlope -0.03830942777128815\n",
      "Neighborhood 0.7068232481651879\n",
      "OverallQual 0.8171846144867666\n",
      "OverallCond -0.0017940301241427259\n",
      "YearBuilt 0.4859912397995564\n",
      "YearRemodAdd 0.529352164901941\n",
      "MasVnrArea 0.4133179127442387\n",
      "ExterQual 0.6781911109000105\n",
      "ExterCond 0.07124449611788887\n",
      "BsmtQual 0.49860523252348304\n",
      "BsmtCond 0.2564589948396377\n",
      "BsmtFinType1 0.3348025265869242\n",
      "BsmtFinSF1 0.20809873504356208\n",
      "BsmtFinType2 0.04993228305777076\n",
      "BsmtFinSF2 -0.03036069070409224\n",
      "BsmtUnfSF 0.2082330803723519\n",
      "TotalBsmtSF 0.37283770045871667\n",
      "HeatingQC 0.4671064948567087\n",
      "1stFlrSF 0.6089550420477848\n",
      "2ndFlrSF 0.18077791403332777\n",
      "LowQualFinSF -0.054513325871901885\n",
      "GrLivArea 0.7302537651626403\n",
      "BsmtFullBath 0.2389448404430777\n",
      "BsmtHalfBath -0.0048899231395365325\n",
      "FullBath 0.5947706649972535\n",
      "HalfBath 0.32092486029966333\n",
      "BedroomAbvGr 0.20904343302573922\n",
      "KitchenAbvGr -0.14427800161205626\n",
      "KitchenQual 0.6678933348195362\n",
      "TotRmsAbvGrd 0.5399981407046412\n",
      "Functional 0.1350917592613173\n",
      "Fireplaces 0.5089246910883088\n",
      "FireplaceQu 0.5463621304447577\n",
      "GarageYrBlt 0.5001830144928037\n",
      "GarageCars 0.6806248726581904\n",
      "GarageArea 0.6508876811435945\n",
      "GarageQual 0.3539110172256851\n",
      "GarageCond 0.35106017600484546\n",
      "PavedDrive 0.3024015462868878\n",
      "WoodDeckSF 0.34303865145025003\n",
      "OpenPorchSF 0.4599479101467425\n",
      "EnclosedPorch -0.20726317401529712\n",
      "3SsnPorch 0.05882693156315312\n",
      "ScreenPorch 0.10585747744077453\n",
      "PoolArea 0.06994885182203377\n",
      "PoolQC 0.07560259008542251\n",
      "MiscVal -0.06705358033225947\n",
      "YrSold -0.037262910120221246\n"
     ]
    }
   ],
   "source": [
    "for col in train[numerical_columns]:\n",
    "    print(col,Y_train['SalePrice'].corr(train[col]))"
   ]
  },
  {
   "cell_type": "code",
   "execution_count": 22,
   "metadata": {
    "collapsed": true
   },
   "outputs": [],
   "source": [
    "# Function for adding polynomial features for important features\n",
    "def polynomial(data):\n",
    "    # quartic\n",
    "    data[\"OverallQual-s2\"] = data[\"OverallQual\"] ** 2\n",
    "    data[\"GrLivArea-s2\"] = data[\"GrLivArea\"] ** 2\n",
    "    data[\"ExterQual-s2\"] = data[\"ExterQual\"] ** 2\n",
    "    data[\"FullBath-s2\"] = data[\"FullBath\"] ** 2\n",
    "    data[\"1stFlrSF-s2\"] = data[\"1stFlrSF\"] **2\n",
    "    data[\"KitchenQual-s2\"] = data[\"KitchenQual\"] **2\n",
    "    data[\"GarageCars-s2\"] = data[\"GarageCars\"] ** 2\n",
    "    data[\"GarageArea-s2\"] = data[\"GarageArea\"] ** 2\n",
    "    data[\"YearBuilt-s2\"] = data[\"YearBuilt\"] **2\n",
    "    data[\"Fireplaces-s2\"] = data[\"Fireplaces\"] ** 2\n",
    "    data[\"FireplaceQu-s2\"] = data[\"FireplaceQu\"] ** 2\n",
    "    data[\"MasVnrArea-s2\"] = data[\"MasVnrArea\"] ** 2\n",
    "    data[\"LotArea-s2\"] = data[\"LotArea\"] ** 2\n",
    "    data[\"TotRmsAbvGrd-s2\"] = data[\"TotRmsAbvGrd\"] ** 2\n",
    "    data[\"HeatingQC-s2\"] = data[\"HeatingQC\"] ** 2\n",
    "    data[\"OpenPorchSF-s2\"] = data[\"OpenPorchSF\"] ** 2\n",
    "    data[\"BsmtQual-s2\"] = data[\"BsmtQual\"] ** 2\n",
    "    data[\"YearBuilt-s2\"] = data[\"YearBuilt\"] ** 2\n",
    "    data[\"LotArea-s2\"] = data[\"LotArea\"] ** 2\n",
    "    data[\"GarageYrBlt-s2\"] = data[\"GarageYrBlt\"] ** 2\n",
    "    data[\"YearRemodAdd-s2\"] = data[\"YearRemodAdd\"] ** 2\n",
    "    # cubic\n",
    "    data[\"OverallQual-s3\"] = data[\"OverallQual\"] ** 3\n",
    "    data[\"GrLivArea-s3\"] = data[\"GrLivArea\"] ** 3\n",
    "    data[\"ExterQual-s3\"] = data[\"ExterQual\"] ** 3\n",
    "    data[\"FullBath-s3\"] = data[\"FullBath\"] ** 3\n",
    "    data[\"1stFlrSF-s3\"] = data[\"1stFlrSF\"] **3\n",
    "    data[\"KitchenQual-s3\"] = data[\"KitchenQual\"] **3\n",
    "    data[\"GarageCars-s3\"] = data[\"GarageCars\"] ** 3\n",
    "    data[\"GarageArea-s3\"] = data[\"GarageArea\"] ** 3\n",
    "    data[\"YearBuilt-s3\"] = data[\"YearBuilt\"] **3 \n",
    "    data[\"Fireplaces-s3\"] = data[\"Fireplaces\"] ** 3\n",
    "    data[\"FireplaceQu-s3\"] = data[\"FireplaceQu\"] ** 3\n",
    "    data[\"MasVnrArea-s3\"] = data[\"MasVnrArea\"] ** 3\n",
    "    data[\"LotArea-s3\"] = data[\"LotArea\"] ** 3\n",
    "    data[\"TotRmsAbvGrd-s3\"] = data[\"TotRmsAbvGrd\"] ** 3\n",
    "    data[\"HeatingQC-s3\"] = data[\"HeatingQC\"] ** 3\n",
    "    data[\"OpenPorchSF-s3\"] = data[\"OpenPorchSF\"] ** 3\n",
    "    data[\"BsmtQual-s3\"] = data[\"BsmtQual\"] ** 3\n",
    "    data[\"YearBuilt-s3\"] = data[\"YearBuilt\"] ** 3\n",
    "    data[\"LotArea-s3\"] = data[\"LotArea\"] ** 3\n",
    "    data[\"GarageYrBlt-s3\"] = data[\"GarageYrBlt\"] ** 3\n",
    "    data[\"YearRemodAdd-s3\"] = data[\"YearRemodAdd\"] ** 3\n",
    "     \n",
    "    # interaction terms\n",
    "    data[\"OverallQual-GrLivArea\"] = data[\"OverallQual\"] * data[\"GrLivArea\"]\n",
    "    data[\"OverallQual-ExterQual\"] = data[\"OverallQual\"] * data[\"ExterQual\"]\n",
    "    data[\"OverallQual-FullBath\"] = data[\"OverallQual\"] * data[\"FullBath\"]\n",
    "    data[\"OverallQual-1stFlrSF\"] = data[\"OverallQual\"] * data[\"1stFlrSF\"]\n",
    "    data[\"OverallQual-GarageCars\"] = data[\"OverallQual\"] * data[\"GarageCars\"]\n",
    "    data[\"OverallQual-GarageArea\"] = data[\"OverallQual\"] * data[\"GarageArea\"]\n",
    "    data[\"OverallQual-KitchenQual\"] = data[\"OverallQual\"] * data[\"KitchenQual\"]\n",
    "    data[\"OverallQual-FireplaceQu\"] = data[\"OverallQual\"] * data[\"FireplaceQu\"]\n",
    "    data[\"GrLivArea-ExterQual\"] = data[\"GrLivArea\"] * data[\"ExterQual\"]\n",
    "    data[\"GrLivArea-FullBath\"] = data[\"GrLivArea\"] * data[\"FullBath\"]\n",
    "    data[\"GrLivArea-1stFlrSF\"] = data[\"GrLivArea\"] * data[\"1stFlrSF\"]\n",
    "    data[\"GrLivArea-GarageCars\"] = data[\"GrLivArea\"] * data[\"GarageCars\"]\n",
    "    data[\"GrLivArea-KitchenQual\"] = data[\"GrLivArea\"] * data[\"KitchenQual\"]\n",
    "    data[\"GrLivArea-FireplaceQu\"] = data[\"GrLivArea\"] * data[\"FireplaceQu\"]\n",
    "    data[\"ExterQual-FullBath\"] = data[\"ExterQual\"] * data[\"FullBath\"]\n",
    "    data[\"ExterQual-1stFlrSF\"] = data[\"ExterQual\"] * data[\"1stFlrSF\"]\n",
    "    data[\"ExterQual-GarageCars\"] = data[\"ExterQual\"] * data[\"GarageCars\"]\n",
    "    data[\"ExterQual-GarageArea\"] = data[\"ExterQual\"] * data[\"GarageArea\"]\n",
    "    data[\"ExterQual-KitchenQual\"] = data[\"ExterQual\"] * data[\"KitchenQual\"]\n",
    "    data[\"ExterQual-FireplaceQu\"] = data[\"ExterQual\"] * data[\"FireplaceQu\"]\n",
    "    data[\"FullBath-1stFlrSF\"] = data[\"FullBath\"] * data['1stFlrSF']\n",
    "    data[\"FullBath-GarageCars\"] = data[\"FullBath\"] * data['GarageCars']\n",
    "    data[\"FullBath-GarageArea\"] = data[\"FullBath\"] * data['GarageArea']\n",
    "    data[\"FullBath-KitchenQual\"] = data[\"FullBath\"] * data['KitchenQual']\n",
    "    data[\"FullBath-FireplaceQu\"] = data[\"FullBath\"] * data['FireplaceQu']\n",
    "    data[\"GarageCars-GarageArea\"] = data['GarageCars'] * data['GarageArea']\n",
    "    data[\"GarageCars-KitchenQual\"] = data['GarageCars'] * data['KitchenQual']\n",
    "    data[\"GarageCars-FireplaceQu\"] = data['GarageCars'] * data['FireplaceQu']\n",
    "    data[\"GarageArea-KitchenQual\"] = data['GarageArea'] * data[\"KitchenQual\"]\n",
    "    data[\"GarageArea-FireplaceQu\"] = data['GarageArea'] * data[\"FireplaceQu\"]\n",
    "    data[\"KitchenQual-FireplaceQu\"] = data[\"KitchenQual\"] * data[\"FireplaceQu\"]\n",
    "    return data"
   ]
  },
  {
   "cell_type": "code",
   "execution_count": 23,
   "metadata": {
    "collapsed": true
   },
   "outputs": [],
   "source": [
    "train = polynomial(train)\n",
    "test = polynomial(test)"
   ]
  },
  {
   "cell_type": "code",
   "execution_count": 24,
   "metadata": {},
   "outputs": [
    {
     "data": {
      "text/plain": [
       "((1459, 148), (1460, 148))"
      ]
     },
     "execution_count": 24,
     "metadata": {},
     "output_type": "execute_result"
    }
   ],
   "source": [
    "test.shape, train.shape"
   ]
  },
  {
   "cell_type": "code",
   "execution_count": 29,
   "metadata": {
    "collapsed": true
   },
   "outputs": [],
   "source": [
    "# Function for returning a data set which converts categorical variables in one hot encoding\n",
    "def cat_dummy(data,categorical_columns,numerical_columns):\n",
    "    data = pd.concat([data[numerical_columns],pd.get_dummies(data[categorical_columns])], axis = 1)\n",
    "    return data"
   ]
  },
  {
   "cell_type": "code",
   "execution_count": 30,
   "metadata": {
    "collapsed": true
   },
   "outputs": [],
   "source": [
    "categorical_columns = train.select_dtypes(include = [\"object\"]).columns\n",
    "numerical_columns = train.select_dtypes(exclude = [\"object\"]).columns"
   ]
  },
  {
   "cell_type": "code",
   "execution_count": 31,
   "metadata": {
    "collapsed": true
   },
   "outputs": [],
   "source": [
    "train = cat_dummy(train,categorical_columns,numerical_columns)\n",
    "test = cat_dummy(test,categorical_columns,numerical_columns)"
   ]
  },
  {
   "cell_type": "code",
   "execution_count": null,
   "metadata": {
    "collapsed": true
   },
   "outputs": [],
   "source": [
    "# They may have different answers in their categorical variables\n",
    "# After one-hot encoding, train and test sets become different\n",
    "# It is safe to drop those different features to make the dimension\n",
    "# of both data sets identical for prediction."
   ]
  },
  {
   "cell_type": "code",
   "execution_count": 33,
   "metadata": {
    "collapsed": true
   },
   "outputs": [],
   "source": [
    "# Difference columns between train and test sets\n",
    "DiffColumns1 = list(set(train.columns).difference(set(test.columns)))\n",
    "DiffColumns2 = list(set(test.columns).difference(set(train.columns)))"
   ]
  },
  {
   "cell_type": "code",
   "execution_count": 35,
   "metadata": {
    "collapsed": true
   },
   "outputs": [],
   "source": [
    "DiffColumns1\n",
    "train = train.drop(DiffColumns1,axis=1)"
   ]
  },
  {
   "cell_type": "code",
   "execution_count": 37,
   "metadata": {
    "collapsed": true
   },
   "outputs": [],
   "source": [
    "test = test.drop(DiffColumns2,axis=1) "
   ]
  },
  {
   "cell_type": "code",
   "execution_count": 42,
   "metadata": {},
   "outputs": [
    {
     "data": {
      "text/plain": [
       "288"
      ]
     },
     "execution_count": 42,
     "metadata": {},
     "output_type": "execute_result"
    }
   ],
   "source": [
    "(train.columns == test.columns).sum()"
   ]
  },
  {
   "cell_type": "code",
   "execution_count": 43,
   "metadata": {
    "collapsed": true
   },
   "outputs": [],
   "source": [
    "# Scale the numerical data to standard normal"
   ]
  },
  {
   "cell_type": "code",
   "execution_count": 44,
   "metadata": {
    "collapsed": true
   },
   "outputs": [],
   "source": [
    "from sklearn.preprocessing import StandardScaler\n",
    "SC = StandardScaler()"
   ]
  },
  {
   "cell_type": "code",
   "execution_count": 45,
   "metadata": {
    "collapsed": true
   },
   "outputs": [],
   "source": [
    "numerical_columns = train.select_dtypes(exclude = [\"object\"]).columns\n",
    "train[numerical_columns] =  SC.fit_transform(train[numerical_columns])\n",
    "test[numerical_columns] =  SC.transform(test[numerical_columns])"
   ]
  },
  {
   "cell_type": "code",
   "execution_count": 46,
   "metadata": {
    "collapsed": true
   },
   "outputs": [],
   "source": [
    "from sklearn.model_selection import train_test_split\n",
    "X_train,X_test,y_train,y_test=train_test_split(train,Y_train,test_size=0.2,random_state=21)"
   ]
  },
  {
   "cell_type": "code",
   "execution_count": 47,
   "metadata": {},
   "outputs": [
    {
     "data": {
      "text/plain": [
       "((1168, 288), (292, 288), (1459, 288))"
      ]
     },
     "execution_count": 47,
     "metadata": {},
     "output_type": "execute_result"
    }
   ],
   "source": [
    "X_train.shape, X_test.shape, test.shape"
   ]
  },
  {
   "cell_type": "code",
   "execution_count": 48,
   "metadata": {},
   "outputs": [
    {
     "data": {
      "text/plain": [
       "\"\\nfrom sklearn.decomposition import PCA\\ndef PCA_transform(X_train,X_test,test):\\n    pca = PCA()\\n    X_train = pca.fit_transform(X_train)\\n    test = pca.transform(test)\\n    X_test = pca.transform(X_test)\\n    #test = pca.transform(test)\\n    # Normalize the variance of pca\\n    var=pca.explained_variance_/sum(pca.explained_variance_)\\n    # Calculate the cumulative sum of pca's variance\\n    cumvar=np.cumsum(var)\\n    # Get the starting index when cumulative sum attains 0.9\\n    index_cumvar=np.where(cumvar>=0.95)\\n    index_cumvar[0][0]\\n    X_train = X_train[:,0:index_cumvar[0][0]]\\n    X_test = X_test[:,0:index_cumvar[0][0]]\\n    test = test[:,0:index_cumvar[0][0]]\\n    return X_train, X_test, test\\nX_train, X_test, test = PCA_transform(X_train,X_test,test)\\n\""
      ]
     },
     "execution_count": 48,
     "metadata": {},
     "output_type": "execute_result"
    }
   ],
   "source": [
    "#\n",
    "# Optional\n",
    "# \n",
    "# PCA transform extracts the most important features\n",
    "# It reduces the dimension of data set to be trained\n",
    "# This saves the computation time.\n",
    "#\n",
    "\"\"\"\n",
    "from sklearn.decomposition import PCA\n",
    "def PCA_transform(X_train,X_test,test):\n",
    "    pca = PCA()\n",
    "    X_train = pca.fit_transform(X_train)\n",
    "    test = pca.transform(test)\n",
    "    X_test = pca.transform(X_test)\n",
    "    #test = pca.transform(test)\n",
    "    # Normalize the variance of pca\n",
    "    var=pca.explained_variance_/sum(pca.explained_variance_)\n",
    "    # Calculate the cumulative sum of pca's variance\n",
    "    cumvar=np.cumsum(var)\n",
    "    # Get the starting index when cumulative sum attains 0.9\n",
    "    index_cumvar=np.where(cumvar>=0.95)\n",
    "    index_cumvar[0][0]\n",
    "    X_train = X_train[:,0:index_cumvar[0][0]]\n",
    "    X_test = X_test[:,0:index_cumvar[0][0]]\n",
    "    test = test[:,0:index_cumvar[0][0]]\n",
    "    return X_train, X_test, test\n",
    "X_train, X_test, test = PCA_transform(X_train,X_test,test)\n",
    "\"\"\""
   ]
  },
  {
   "cell_type": "markdown",
   "metadata": {
    "collapsed": true
   },
   "source": [
    "# Keras Regression"
   ]
  },
  {
   "cell_type": "code",
   "execution_count": 50,
   "metadata": {},
   "outputs": [
    {
     "name": "stderr",
     "output_type": "stream",
     "text": [
      "C:\\Users\\HoT\\Anaconda3_2\\lib\\site-packages\\h5py\\__init__.py:34: FutureWarning: Conversion of the second argument of issubdtype from `float` to `np.floating` is deprecated. In future, it will be treated as `np.float64 == np.dtype(float).type`.\n",
      "  from ._conv import register_converters as _register_converters\n",
      "Using TensorFlow backend.\n"
     ]
    }
   ],
   "source": [
    "from keras.models import Sequential, load_model\n",
    "from keras.layers import Dense, Dropout\n",
    "from keras import regularizers"
   ]
  },
  {
   "cell_type": "code",
   "execution_count": 51,
   "metadata": {},
   "outputs": [
    {
     "data": {
      "text/plain": [
       "288"
      ]
     },
     "execution_count": 51,
     "metadata": {},
     "output_type": "execute_result"
    }
   ],
   "source": [
    "input_Dim = X_train.shape[1]\n",
    "input_Dim"
   ]
  },
  {
   "cell_type": "code",
   "execution_count": 52,
   "metadata": {
    "collapsed": true
   },
   "outputs": [],
   "source": [
    "from sklearn.metrics import mean_squared_error"
   ]
  },
  {
   "cell_type": "code",
   "execution_count": null,
   "metadata": {
    "collapsed": true
   },
   "outputs": [],
   "source": [
    "# Use dense nets for regression"
   ]
  },
  {
   "cell_type": "code",
   "execution_count": 53,
   "metadata": {
    "collapsed": true
   },
   "outputs": [],
   "source": [
    "def dense_model(l1=0,l2=0):\n",
    "    model = Sequential()\n",
    "    model.add(Dense(200, input_dim=input_Dim, kernel_initializer='normal', bias_initializer='zeros',activation='tanh',\n",
    "                kernel_regularizer=regularizers.l1_l2(l1=l1,l2=l2)))\n",
    "    model.add(Dense(200, activation='relu'))\n",
    "    model.add(Dense(180, activation='tanh'))\n",
    "    model.add(Dense(140, activation='tanh'))\n",
    "    model.add(Dense(120, activation='relu'))\n",
    "    model.add(Dense(100, activation='tanh'))\n",
    "    model.add(Dense(80, activation='tanh'))\n",
    "    model.add(Dense(80, activation='relu'))\n",
    "    model.add(Dense(40, activation='tanh'))\n",
    "    model.add(Dense(20, activation='relu'))\n",
    "    model.add(Dense(1, activation='linear'))\n",
    "    return model"
   ]
  },
  {
   "cell_type": "code",
   "execution_count": 54,
   "metadata": {
    "collapsed": true
   },
   "outputs": [],
   "source": [
    "def dense_net_output(i,j,X_train,X_test,y_train,y_test,test):\n",
    "    for i in l1:\n",
    "        for j in l2:\n",
    "            model = dense_model(i,j)\n",
    "            model.compile(loss='mean_squared_error', optimizer='adam',metrics=['accuracy','mae'])\n",
    "            model.fit(X_train, y_train, epochs=400, batch_size=128,  verbose=0, validation_split=0.2)\n",
    "            predict_y_train = model.predict(X_train)\n",
    "            predict_y_test = model.predict(X_test)\n",
    "            print(\"l1 regulator: \",i)\n",
    "            print(\"l2 regulator: \",j)\n",
    "            RMSE_train = np.sqrt(mean_squared_error(y_train,predict_y_train))\n",
    "            RMSE_test = np.sqrt(mean_squared_error(y_test,predict_y_test))\n",
    "            print(\"RMSE train set:\",RMSE_train)\n",
    "            print(\"RMSE test set:\",RMSE_test)\n",
    "            print(\"Difference of RMSE between train and test sets:\",RMSE_test-RMSE_train)\n",
    "            print(\"\\n\")\n",
    "            predict_test = model.predict(test)\n",
    "            if (RMSE_test<.14):\n",
    "                model.save('my_model.h5')\n",
    "                return model"
   ]
  },
  {
   "cell_type": "code",
   "execution_count": 55,
   "metadata": {
    "scrolled": true
   },
   "outputs": [
    {
     "name": "stdout",
     "output_type": "stream",
     "text": [
      "l1 regulator:  0\n",
      "l2 regulator:  1\n",
      "RMSE train set: 0.12517357787777914\n",
      "RMSE test set: 0.14681008023805822\n",
      "Difference of RMSE between train and test sets: 0.021636502360279086\n",
      "\n",
      "\n",
      "l1 regulator:  0\n",
      "l2 regulator:  2\n",
      "RMSE train set: 0.14019288232544175\n",
      "RMSE test set: 0.142210796912154\n",
      "Difference of RMSE between train and test sets: 0.002017914586712244\n",
      "\n",
      "\n",
      "l1 regulator:  0\n",
      "l2 regulator:  3\n",
      "RMSE train set: 0.11629879062192476\n",
      "RMSE test set: 0.1357069611333208\n",
      "Difference of RMSE between train and test sets: 0.019408170511396053\n",
      "\n",
      "\n"
     ]
    }
   ],
   "source": [
    "l1 = [0, .5]\n",
    "l2 = [1, 2, 3, 3.5, 4, 4.5, 5, 6, 7, 8, 9, 10]\n",
    "model = dense_net_output(l1,l2,X_train,X_test,y_train,y_test,test)"
   ]
  },
  {
   "cell_type": "code",
   "execution_count": 57,
   "metadata": {
    "collapsed": true
   },
   "outputs": [],
   "source": [
    "predict_y_train, predict_y_test = model.predict(X_train), model.predict(X_test)"
   ]
  },
  {
   "cell_type": "code",
   "execution_count": 58,
   "metadata": {},
   "outputs": [
    {
     "name": "stdout",
     "output_type": "stream",
     "text": [
      "0.11629879062192476 0.1357069611333208\n"
     ]
    }
   ],
   "source": [
    "RMSE_train_prices = np.sqrt(mean_squared_error(y_train,predict_y_train))\n",
    "RMSE_test_prices = np.sqrt(mean_squared_error(y_test,predict_y_test))\n",
    "print(RMSE_train_prices,RMSE_test_prices)"
   ]
  },
  {
   "cell_type": "code",
   "execution_count": 59,
   "metadata": {
    "collapsed": true
   },
   "outputs": [],
   "source": [
    "predict_test = model.predict(test)"
   ]
  },
  {
   "cell_type": "code",
   "execution_count": 60,
   "metadata": {
    "collapsed": true
   },
   "outputs": [],
   "source": [
    "predicted_prices = np.expm1(predict_test)"
   ]
  },
  {
   "cell_type": "code",
   "execution_count": 63,
   "metadata": {
    "collapsed": true
   },
   "outputs": [],
   "source": [
    "submission = pd.DataFrame(predicted_prices,index=test.index, columns=[\"SalePrice\"])\n",
    "submission.to_csv('submission3.csv', header=True, index_label='Id')"
   ]
  }
 ],
 "metadata": {
  "kernelspec": {
   "display_name": "Python 3",
   "language": "python",
   "name": "python3"
  },
  "language_info": {
   "codemirror_mode": {
    "name": "ipython",
    "version": 3
   },
   "file_extension": ".py",
   "mimetype": "text/x-python",
   "name": "python",
   "nbconvert_exporter": "python",
   "pygments_lexer": "ipython3",
   "version": "3.6.3"
  }
 },
 "nbformat": 4,
 "nbformat_minor": 2
}
